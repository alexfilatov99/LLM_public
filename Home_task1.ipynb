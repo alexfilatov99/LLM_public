{
  "cells": [
    {
      "cell_type": "code",
      "execution_count": null,
      "metadata": {
        "id": "a5SOwW_vL6jn"
      },
      "outputs": [],
      "source": [
        "! pip install openai"
      ]
    },
    {
      "cell_type": "code",
      "source": [
        "import openai\n",
        "\n",
        "openai.api_key = \"sk-ХХХ\" # ваш ключ в VseGPT после регистрации\n",
        "openai.base_url = \"https://api.vsegpt.ru/v1/\""
      ],
      "metadata": {
        "id": "TxbTz3z7rfcg"
      },
      "execution_count": 2,
      "outputs": []
    },
    {
      "cell_type": "code",
      "execution_count": null,
      "metadata": {
        "id": "sP5NxZnOnDM4"
      },
      "outputs": [],
      "source": [
        "# Перевод тескта на различные диалекты английского языка\n",
        "\n",
        "system_texts = [\"Переведи на литературный английский\", \"Переведи текст на американский диалект английского языка\", \"Переведи на шотландский диалект английского языка\",\n",
        "                \"Переведи на валлийский диалект английского языка\"]\n",
        "usr_prompt = \"Уж небо осенью дышало...\"\n",
        "\n",
        "for i in range(len(system_texts)):\n",
        "  messages = []\n",
        "  messages.append({\"role\": \"system\", \"content\": system_texts[i]})\n",
        "  messages.append({\"role\": \"user\", \"content\": usr_prompt})\n",
        "\n",
        " # print(system_texts[i]+'\\n')\n",
        "  response_big = openai.chat.completions.create(\n",
        "      model=\"anthropic/claude-instant-v1\",\n",
        "      messages=messages,\n",
        "      temperature=0.7,\n",
        "      n=1,\n",
        "      max_tokens=int(len(usr_prompt) * 1.5),\n",
        "      extra_headers={ \"X-Title\": \"My App\" }, # опционально - передача информация об источнике API-вызова\n",
        "  )\n",
        "\n",
        "#print(\"Response BIG:\",response_big)\n",
        "  response = response_big.choices[0].message.content\n",
        "  print(\"Response: \",response, end='\\n')"
      ]
    },
    {
      "cell_type": "code",
      "execution_count": null,
      "metadata": {
        "id": "d_cbXFZ0nEs4"
      },
      "outputs": [],
      "source": [
        "# Суммаризация текста\n",
        "system_text = \"Прочти текст и напиши не более 5 предложение, содержащих основной смысл прочитанного текста\"\n",
        "usr_prompt = \"Фьючерс - контракт со сроком действия (есть исключения, но о них в других статьях), а значит при работе с конкретным фьючерсом надо всегда иметь в виду дату экспирации этого фьючерса. Что случается с фьючерсом после даты экспирации? Производятся взаиморасчеты между сторонами контракта и фьючерс перестает существовать и торговаться. Но это не значит, что больше нельзя будет отыграть базовый актив через фьючерсы, на одну и ту же базу всегда появляются новые фьючерсы. Например, на акции Сбербанка на Московской бирже прямо сейчас (в момент написания статьи 02.10.2023) торгуется 4 разных фьючерсных контракта - с датой экспирации в декабре 2023, марте 2024, июне 2024 и сентябре 2024. Их, кстати, в обиходе так и называют - декабрьский, мартовский и т.д. Как только пройдет срок экспирации декабрьского 2023 года - сразу же начнет торговаться декабрьский 2024 года и т.д. Подробнее об экспирации (исполнении) фьючерсных контрактов в следующих статьях. Покупая или продавая фьючерс, инвестор не обязан держать его до даты погашения - фьючерс можно продать или выкупить его обратно (в случае если изначально его продали) хоть через секунду после первой сделки. В таком случае, вы избавляете себя от обязанности купить/продать базовый актив, по сути переуступая эту обязанность заранее. На деле инвесторы практически никогда не дожидаются исполнения фьючерса и закрывают позицию по нему до даты погашения.\"\n",
        "\n",
        "messages = []\n",
        "messages.append({\"role\": \"system\", \"content\": system_text})\n",
        "messages.append({\"role\": \"user\", \"content\": usr_prompt})\n",
        "\n",
        " # print(system_texts[i]+'\\n')\n",
        "response_big = openai.chat.completions.create(\n",
        "    model=\"anthropic/claude-instant-v1\",\n",
        "    messages=messages,\n",
        "    temperature=0.7,\n",
        "    n=1,\n",
        "    max_tokens=int(len(usr_prompt) * 1.5),\n",
        "    extra_headers={ \"X-Title\": \"My App\" }, # опционально - передача информация об источнике API-вызова\n",
        ")\n",
        "\n",
        "#print(\"Response BIG:\",response_big)\n",
        "response = response_big.choices[0].message.content\n",
        "print(\"Response: \",response, end='\\n')\n"
      ]
    },
    {
      "cell_type": "code",
      "source": [],
      "metadata": {
        "id": "US7_Nw7nuXR6"
      },
      "execution_count": null,
      "outputs": []
    },
    {
      "cell_type": "code",
      "source": [],
      "metadata": {
        "id": "xV5ThRL8414k"
      },
      "execution_count": 10,
      "outputs": []
    }
  ],
  "metadata": {
    "colab": {
      "provenance": []
    },
    "kernelspec": {
      "display_name": "Python 3",
      "name": "python3"
    },
    "language_info": {
      "name": "python"
    }
  },
  "nbformat": 4,
  "nbformat_minor": 0
}