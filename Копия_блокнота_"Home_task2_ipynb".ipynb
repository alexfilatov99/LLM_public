{
  "cells": [
    {
      "cell_type": "markdown",
      "metadata": {
        "id": "view-in-github",
        "colab_type": "text"
      },
      "source": [
        "<a href=\"https://colab.research.google.com/github/alexfilatov99/LLM_public/blob/main/%D0%9A%D0%BE%D0%BF%D0%B8%D1%8F_%D0%B1%D0%BB%D0%BE%D0%BA%D0%BD%D0%BE%D1%82%D0%B0_%22Home_task2_ipynb%22.ipynb\" target=\"_parent\"><img src=\"https://colab.research.google.com/assets/colab-badge.svg\" alt=\"Open In Colab\"/></a>"
      ]
    },
    {
      "cell_type": "code",
      "execution_count": null,
      "metadata": {
        "id": "a5SOwW_vL6jn"
      },
      "outputs": [],
      "source": [
        "! pip install openai\n",
        "! pip install gradio"
      ]
    },
    {
      "cell_type": "code",
      "source": [
        "import openai\n",
        "import gradio as gr\n",
        "from google.colab import userdata\n",
        "\n",
        "openai.api_key =  userdata.get('vsegpt_key') # ваш ключ в VseGPT после регистрации\n",
        "openai.base_url = \"https://api.vsegpt.ru/v1/\""
      ],
      "metadata": {
        "id": "TxbTz3z7rfcg"
      },
      "execution_count": null,
      "outputs": []
    },
    {
      "cell_type": "code",
      "source": [
        "def greet(system_text, usr_prompt, tempr):\n",
        "  messages = []\n",
        "  messages.append({\"role\": \"system\", \"content\": system_text})\n",
        "  messages.append({\"role\": \"user\", \"content\": usr_prompt})\n",
        "\n",
        " # print(system_texts[i]+'\\n')\n",
        "  response_big = openai.chat.completions.create(\n",
        "      model=\"anthropic/claude-instant-v1\",\n",
        "      messages=messages,\n",
        "      temperature=tempr,\n",
        "      n=1,\n",
        "      max_tokens=int(len(usr_prompt) * 1.5),\n",
        "      extra_headers={ \"X-Title\": \"My App\" }, # опционально - передача информация об источнике API-вызова\n",
        "  )\n",
        "\n",
        "#print(\"Response BIG:\",response_big)\n",
        "  response = response_big.choices[0].message.content\n",
        "  #print(\"Response: \",response, end='\\n')\n",
        "  return response\n",
        "\n",
        "demo = gr.Interface(\n",
        "    fn=greet,\n",
        "    inputs=[\"text\", \"text\", \"slider\"],\n",
        "    outputs=[\"text\"],\n",
        ")\n",
        "\n",
        "demo.launch()"
      ],
      "metadata": {
        "id": "xV5ThRL8414k",
        "outputId": "caf92c7a-b38c-48a5-ce9b-2d2ea225c921",
        "colab": {
          "base_uri": "https://localhost:8080/",
          "height": 652
        }
      },
      "execution_count": null,
      "outputs": [
        {
          "output_type": "stream",
          "name": "stdout",
          "text": [
            "Setting queue=True in a Colab notebook requires sharing enabled. Setting `share=True` (you can turn this off by setting `share=False` in `launch()` explicitly).\n",
            "\n",
            "Colab notebook detected. To show errors in colab notebook, set debug=True in launch()\n",
            "Running on public URL: https://8e412d331d44f3156b.gradio.live\n",
            "\n",
            "This share link expires in 72 hours. For free permanent hosting and GPU upgrades, run `gradio deploy` from Terminal to deploy to Spaces (https://huggingface.co/spaces)\n"
          ]
        },
        {
          "output_type": "display_data",
          "data": {
            "text/plain": [
              "<IPython.core.display.HTML object>"
            ],
            "text/html": [
              "<div><iframe src=\"https://8e412d331d44f3156b.gradio.live\" width=\"100%\" height=\"500\" allow=\"autoplay; camera; microphone; clipboard-read; clipboard-write;\" frameborder=\"0\" allowfullscreen></iframe></div>"
            ]
          },
          "metadata": {}
        },
        {
          "output_type": "execute_result",
          "data": {
            "text/plain": []
          },
          "metadata": {},
          "execution_count": 6
        }
      ]
    },
    {
      "cell_type": "code",
      "source": [
        "! openai --help"
      ],
      "metadata": {
        "id": "5E_BnHpqZ2Ne",
        "outputId": "cec49710-c624-481d-af11-748b1c1ee13d",
        "colab": {
          "base_uri": "https://localhost:8080/"
        }
      },
      "execution_count": null,
      "outputs": [
        {
          "output_type": "stream",
          "name": "stdout",
          "text": [
            "usage: openai [-h] [-v] [-b API_BASE] [-k API_KEY] [-p PROXY [PROXY ...]] [-o ORGANIZATION]\n",
            "              [-t {openai,azure}] [--api-version API_VERSION] [--azure-endpoint AZURE_ENDPOINT]\n",
            "              [--azure-ad-token AZURE_AD_TOKEN] [-V]\n",
            "              {api,tools,migrate,grit} ...\n",
            "\n",
            "positional arguments:\n",
            "  {api,tools,migrate,grit}\n",
            "    api                 Direct API calls\n",
            "    tools               Client side tools for convenience\n",
            "\n",
            "options:\n",
            "  -h, --help            show this help message and exit\n",
            "  -v, --verbose         Set verbosity.\n",
            "  -b API_BASE, --api-base API_BASE\n",
            "                        What API base url to use.\n",
            "  -k API_KEY, --api-key API_KEY\n",
            "                        What API key to use.\n",
            "  -p PROXY [PROXY ...], --proxy PROXY [PROXY ...]\n",
            "                        What proxy to use.\n",
            "  -o ORGANIZATION, --organization ORGANIZATION\n",
            "                        Which organization to run as (will use your default organization if not\n",
            "                        specified)\n",
            "  -t {openai,azure}, --api-type {openai,azure}\n",
            "                        The backend API to call, must be `openai` or `azure`\n",
            "  --api-version API_VERSION\n",
            "                        The Azure API version, e.g. 'https://learn.microsoft.com/en-us/azure/ai-\n",
            "                        services/openai/reference#rest-api-versioning'\n",
            "  --azure-endpoint AZURE_ENDPOINT\n",
            "                        The Azure endpoint, e.g. 'https://endpoint.openai.azure.com'\n",
            "  --azure-ad-token AZURE_AD_TOKEN\n",
            "                        A token from Azure Active Directory, https://www.microsoft.com/en-\n",
            "                        us/security/business/identity-access/microsoft-entra-id\n",
            "  -V, --version         show program's version number and exit\n"
          ]
        }
      ]
    }
  ],
  "metadata": {
    "colab": {
      "provenance": [],
      "include_colab_link": true
    },
    "kernelspec": {
      "display_name": "Python 3",
      "name": "python3"
    },
    "language_info": {
      "name": "python"
    }
  },
  "nbformat": 4,
  "nbformat_minor": 0
}